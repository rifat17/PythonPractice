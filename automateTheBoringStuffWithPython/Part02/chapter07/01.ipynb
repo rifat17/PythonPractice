{
 "cells": [
  {
   "cell_type": "code",
   "execution_count": 2,
   "metadata": {},
   "outputs": [
    {
     "name": "stdout",
     "output_type": "stream",
     "text": [
      "Phone Number found : 453-121-2334\n"
     ]
    }
   ],
   "source": [
    "import re\n",
    "\n",
    "phoneRegex  = re.compile(r'\\d{3}-\\d{3}-\\d{4}')\n",
    "\n",
    "mo  = phoneRegex.search('My Phone Number is 453-121-2334.')\n",
    "\n",
    "print('Phone Number found : ' + mo.group())\n"
   ]
  },
  {
   "cell_type": "code",
   "execution_count": 3,
   "metadata": {},
   "outputs": [
    {
     "name": "stdout",
     "output_type": "stream",
     "text": [
      "<re.Match object; span=(19, 31), match='01828 797973'>\n",
      "Phone Number found : 01828 797973\n"
     ]
    }
   ],
   "source": [
    "\n",
    "# bdPhoneRe = re.compile(r'(\\+88)?01[1356789]\\d{8}')\n",
    "bdPhoneRe = re.compile(r'[\\+88]*01[1356789]\\d\\s*\\d\\s*\\d{6}')\n",
    "\n",
    "# bdPhoneRe = re.compile(r'(\\+88)*?01[1356789]\\d{8}')\n",
    "\n",
    "mo = bdPhoneRe.search('My Phone Number is 01828 797973.')\n",
    "\n",
    "print(mo)\n",
    "print('Phone Number found : ' + mo.group())\n"
   ]
  },
  {
   "cell_type": "code",
   "execution_count": 4,
   "metadata": {},
   "outputs": [
    {
     "name": "stdout",
     "output_type": "stream",
     "text": [
      "452\n",
      "555-3534\n",
      "452-555-3534\n",
      "452-555-3534\n",
      "(445)\n",
      "555-4242\n",
      "(445) 555-4242\n"
     ]
    }
   ],
   "source": [
    "\n",
    "# Grouping with Parentheses\n",
    "\n",
    "phoneNumRegex = re.compile(r'(\\d\\d\\d)-(\\d\\d\\d-\\d\\d\\d\\d)')\n",
    "mo = phoneNumRegex.search('My Number is 452-555-3534')\n",
    "print(mo.group(1))\n",
    "print(mo.group(2))\n",
    "print(mo.group(0))  # Full match\n",
    "print(mo.group())   # Full match\n",
    "\n",
    "\n",
    "phoneNumRegex = re.compile(r'(\\(\\d\\d\\d\\)) (\\d\\d\\d-\\d\\d\\d\\d)')\n",
    "mo = phoneNumRegex.search('My Phone number is (445) 555-4242')\n",
    "print(mo.group(1))\n",
    "print(mo.group(2))\n",
    "print(mo.group())\n",
    "\n"
   ]
  },
  {
   "cell_type": "code",
   "execution_count": 5,
   "metadata": {},
   "outputs": [
    {
     "name": "stdout",
     "output_type": "stream",
     "text": [
      "Batman\n"
     ]
    }
   ],
   "source": [
    "\n",
    "# Matching Multiple group with the PIPE\n",
    "\n",
    "heroRegex = re.compile(r'Batman|Tina Fey') # The first occurance of matching will return\n",
    "mo1 = heroRegex.search('Batman and Tina Fey')\n",
    "print(mo1.group())\n",
    "\n"
   ]
  },
  {
   "cell_type": "code",
   "execution_count": 6,
   "metadata": {},
   "outputs": [
    {
     "name": "stdout",
     "output_type": "stream",
     "text": [
      "Tina Fey\n",
      "Batmobile\n",
      "mobile\n",
      "Batman\n",
      "Batwoman\n",
      "452-555-5343\n",
      "555-5343\n"
     ]
    }
   ],
   "source": [
    "\n",
    "heroRegex = re.compile(r'Batman|Tina Fey') # The first occurance of matching will return\n",
    "mo1 = heroRegex.search('Tina Fey and Batman')\n",
    "print(mo1.group())\n",
    "\n",
    "batRegex = re.compile(r'Bat(man|mobile|copter|bat)')\n",
    "mo = batRegex.search('Batmobile lost a wheel')\n",
    "print(mo.group())       # returns Full matched text\n",
    "print(mo.group(1))      # returns just the part of the matched text\n",
    "                        # inside first parentheses group\n",
    "\n",
    "batRegex = re.compile(r'Bat(wo)?man')\n",
    "# Here,The (wo)? part of regex means that the pattern 'wo' is an optional group\n",
    "# (wo)? regex will match that has zero or one isntance of 'wo' in it.\n",
    "mo1 = batRegex.search('The advanture of Batman')\n",
    "print(mo1.group())\n",
    "\n",
    "mo2 = batRegex.search('The advantage of Batwoman')\n",
    "print(mo2.group())\n",
    "\n",
    "phoneNumRegex = re.compile(r'(\\d\\d\\d-)?\\d\\d\\d-\\d\\d\\d\\d')\n",
    "mo1 = phoneNumRegex.search('My Number is 452-555-5343')\n",
    "print(mo1.group())\n",
    "mo2 = phoneNumRegex.search('My Number is 555-5343')\n",
    "print(mo2.group())\n"
   ]
  },
  {
   "cell_type": "code",
   "execution_count": 7,
   "metadata": {},
   "outputs": [
    {
     "name": "stdout",
     "output_type": "stream",
     "text": [
      "Batman\n",
      "Batwoman\n",
      "Batwowowowoman\n"
     ]
    }
   ],
   "source": [
    "\n",
    "# Matching Zero or More with Star(*)\n",
    "\n",
    "batRegex = re.compile(r'Bat(wo)*man')\n",
    "mo1 = batRegex.search('The Advantures of Batman')\n",
    "print(mo1.group())\n",
    "\n",
    "mo2 = batRegex.search('The Advantures of Batwoman')\n",
    "print(mo2.group())\n",
    "\n",
    "mo3 = batRegex.search('The Advantures of Batwowowowoman')\n",
    "print(mo3.group())\n",
    "\n"
   ]
  },
  {
   "cell_type": "code",
   "execution_count": 8,
   "metadata": {},
   "outputs": [
    {
     "name": "stdout",
     "output_type": "stream",
     "text": [
      "True\n",
      "Batwoman\n",
      "Batwowowowoman\n"
     ]
    }
   ],
   "source": [
    "\n",
    "# Matching One or More with plus(+)\n",
    "\n",
    "batRegex = re.compile(r'Bat(wo)+man')\n",
    "mo1 = batRegex.search('The Advantures of Batman')\n",
    "print(mo1 == None)\n",
    "\n",
    "mo2 = batRegex.search('The Advantures of Batwoman')\n",
    "print(mo2.group())\n",
    "\n",
    "mo3 = batRegex.search('The Advantures of Batwowowowoman')\n",
    "print(mo3.group())\n"
   ]
  },
  {
   "cell_type": "code",
   "execution_count": 9,
   "metadata": {},
   "outputs": [
    {
     "name": "stdout",
     "output_type": "stream",
     "text": [
      "HaHaHa\n",
      "HaHaHa\n",
      "True\n"
     ]
    }
   ],
   "source": [
    "\n",
    "\n",
    "# Matching specific repetition with Curly Bracket\n",
    "\n",
    " # (Ha){3} will match the string 'HaHaHa' But\n",
    " # it will mot match 'HaHa'\n",
    " # since the latter has only two repeats of the (Ha) Group\n",
    "\n",
    "# you can specify the range of repetition\n",
    "# (Ha){3,5} will match 'HaHaHa', 'HaHaHaHa', 'HaHaHaHaHa'\n",
    "# also\n",
    "# (Ha){3,}\n",
    "# (Ha){,5}\n",
    "\n",
    "# These RE are Identical\n",
    "\n",
    "# (Ha){3}\n",
    "# (Ha)(Ha)(Ha)\n",
    "\n",
    "# (Ha){3,5}\n",
    "# ((Ha)(Ha)(Ha))|((Ha)(Ha)(Ha)(Ha))|((Ha)(Ha)(Ha)(Ha)(Ha))\n",
    "\n",
    "\n",
    "haRegex = re.compile(r'(Ha){3}')\n",
    "mo1 = haRegex.search('HaHaHa')\n",
    "print(mo1.group())\n",
    "mo1 = haRegex.search('HaHaHaHa') # Match first # 'Ha',ignores rest\n",
    "print(mo1.group())\n",
    "mo1 = haRegex.search('HaHa')\n",
    "print(mo1 == None)\n"
   ]
  },
  {
   "cell_type": "code",
   "execution_count": 13,
   "metadata": {},
   "outputs": [
    {
     "name": "stdout",
     "output_type": "stream",
     "text": [
      "Batwoman\n"
     ]
    }
   ],
   "source": [
    "# Matching One or More with the Plus\n",
    "\n",
    "'''While * means “match zero or more,” the + (or plus) means “match one or\n",
    "more.” Unlike the star, which does not require its group to appear in the\n",
    "matched string, the group preceding a plus must appear at least once. It is\n",
    "not optional.'''\n",
    "\n",
    "batRegex = re.compile(r'Bat(wo)+man')\n",
    "\n",
    "mo1 = batRegex.search(\"The Advantures of Batwoman\")\n",
    "\n",
    "print(mo1.group())\n",
    "\n",
    "mo2 = batRegex.search(\"The Advantures of Batwowowowman\")\n",
    "\n",
    "print(mo2.group())\n",
    "\n",
    "mo3 = batRegex"
   ]
  },
  {
   "cell_type": "code",
   "execution_count": null,
   "metadata": {},
   "outputs": [],
   "source": []
  }
 ],
 "metadata": {
  "kernelspec": {
   "display_name": "Python 3",
   "language": "python",
   "name": "python3"
  },
  "language_info": {
   "codemirror_mode": {
    "name": "ipython",
    "version": 3
   },
   "file_extension": ".py",
   "mimetype": "text/x-python",
   "name": "python",
   "nbconvert_exporter": "python",
   "pygments_lexer": "ipython3",
   "version": "3.7.3"
  }
 },
 "nbformat": 4,
 "nbformat_minor": 2
}
